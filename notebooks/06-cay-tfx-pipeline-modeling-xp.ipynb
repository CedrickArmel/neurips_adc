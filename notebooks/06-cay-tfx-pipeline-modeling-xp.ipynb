{
 "cells": [
  {
   "cell_type": "code",
   "execution_count": 1,
   "id": "1220af8e-b863-4d29-ab8b-4c1edf408aae",
   "metadata": {},
   "outputs": [
    {
     "name": "stderr",
     "output_type": "stream",
     "text": [
      "2024-10-17 14:37:17.497940: I tensorflow/core/util/port.cc:113] oneDNN custom operations are on. You may see slightly different numerical results due to floating-point round-off errors from different computation orders. To turn them off, set the environment variable `TF_ENABLE_ONEDNN_OPTS=0`.\n",
      "2024-10-17 14:37:18.315628: I external/local_tsl/tsl/cuda/cudart_stub.cc:31] Could not find cuda drivers on your machine, GPU will not be used.\n",
      "2024-10-17 14:37:19.560260: E external/local_xla/xla/stream_executor/cuda/cuda_dnn.cc:9261] Unable to register cuDNN factory: Attempting to register factory for plugin cuDNN when one has already been registered\n",
      "2024-10-17 14:37:19.560378: E external/local_xla/xla/stream_executor/cuda/cuda_fft.cc:607] Unable to register cuFFT factory: Attempting to register factory for plugin cuFFT when one has already been registered\n",
      "2024-10-17 14:37:19.674130: E external/local_xla/xla/stream_executor/cuda/cuda_blas.cc:1515] Unable to register cuBLAS factory: Attempting to register factory for plugin cuBLAS when one has already been registered\n",
      "2024-10-17 14:37:19.979503: I external/local_tsl/tsl/cuda/cudart_stub.cc:31] Could not find cuda drivers on your machine, GPU will not be used.\n",
      "2024-10-17 14:37:19.982773: I tensorflow/core/platform/cpu_feature_guard.cc:182] This TensorFlow binary is optimized to use available CPU instructions in performance-critical operations.\n",
      "To enable the following instructions: AVX2 AVX512F AVX512_VNNI FMA, in other operations, rebuild TensorFlow with the appropriate compiler flags.\n"
     ]
    }
   ],
   "source": [
    "import os\n",
    "import time\n",
    "from dotenv import load_dotenv\n",
    "import tensorflow as tf\n",
    "from tfx import v1 as tfx\n",
    "from tfx.v1.components import ImportExampleGen, StatisticsGen, SchemaGen\n",
    "from tfx.orchestration.experimental.interactive.interactive_context import (\n",
    "    InteractiveContext,\n",
    ")\n",
    "from tfx.proto import example_gen_pb2\n",
    "from tfx.v1.proto import Output, SplitConfig"
   ]
  },
  {
   "cell_type": "code",
   "execution_count": 2,
   "id": "5c501198-c7a1-4354-8906-768d7ff70c1f",
   "metadata": {
    "tags": []
   },
   "outputs": [
    {
     "data": {
      "text/plain": [
       "True"
      ]
     },
     "execution_count": 2,
     "metadata": {},
     "output_type": "execute_result"
    }
   ],
   "source": [
    "load_dotenv()"
   ]
  },
  {
   "cell_type": "code",
   "execution_count": 3,
   "id": "6636d1d8-bd04-44c6-983d-ca9f3407b421",
   "metadata": {
    "tags": []
   },
   "outputs": [],
   "source": [
    "BUCKET = os.getenv(\"BUCKET\")\n",
    "PROJECT_ID = os.getenv(\"PROJECT_ID\")\n",
    "REGION = os.getenv(\"REGION\")"
   ]
  },
  {
   "cell_type": "code",
   "execution_count": 4,
   "id": "a0dd680d-7995-486d-b320-36a7f9366c6d",
   "metadata": {
    "tags": []
   },
   "outputs": [],
   "source": [
    "ARTIFACT_STORE = os.path.join(os.sep, \"home\", \"jupyter\", \"artifact-store\")\n",
    "PIPELINE_NAME = \"neurips-interactive-test\"\n",
    "PIPELINE_ROOT = os.path.join(\n",
    "    ARTIFACT_STORE, PIPELINE_NAME, time.strftime(\"%Y%m%d_%H%M%S\")\n",
    ")\n",
    "INPUT_BASE = f\"gs://{BUCKET}/primary\""
   ]
  },
  {
   "cell_type": "code",
   "execution_count": 5,
   "id": "c89afd0a-0166-47ca-801c-1bb7d7874ed0",
   "metadata": {
    "tags": []
   },
   "outputs": [
    {
     "name": "stderr",
     "output_type": "stream",
     "text": [
      "WARNING:absl:InteractiveContext metadata_connection_config not provided: using SQLite ML Metadata database at /home/jupyter/artifact-store/neurips-interactive-test/20241017_143737/metadata.sqlite.\n"
     ]
    }
   ],
   "source": [
    "context = InteractiveContext(\n",
    "    pipeline_name=PIPELINE_NAME,\n",
    "    pipeline_root=PIPELINE_ROOT,\n",
    "    metadata_connection_config=None,\n",
    ")"
   ]
  },
  {
   "cell_type": "code",
   "execution_count": 6,
   "id": "f24dfc2c-7c8f-4a36-9082-1461ab5bcaa9",
   "metadata": {
    "tags": []
   },
   "outputs": [],
   "source": [
    "output = Output(\n",
    "    split_config=example_gen_pb2.SplitConfig(\n",
    "        splits=[\n",
    "            SplitConfig.Split(name=\"train\", hash_buckets=4),\n",
    "            SplitConfig.Split(name=\"eval\", hash_buckets=1),\n",
    "        ]\n",
    "    )\n",
    ")"
   ]
  },
  {
   "cell_type": "code",
   "execution_count": 7,
   "id": "0ed915db-65fb-4c97-b382-6c6c5b93dd99",
   "metadata": {
    "tags": []
   },
   "outputs": [
    {
     "data": {
      "text/plain": [
       "'/home/jupyter/artifact-store'"
      ]
     },
     "execution_count": 7,
     "metadata": {},
     "output_type": "execute_result"
    }
   ],
   "source": [
    "ARTIFACT_STORE"
   ]
  },
  {
   "cell_type": "code",
   "execution_count": 8,
   "id": "30ad1fa1-c8bf-480b-9803-2dbf3b8e9e61",
   "metadata": {
    "tags": []
   },
   "outputs": [],
   "source": [
    "example_gen = ImportExampleGen(\n",
    "    input_base=\"/home/jupyter/artifact-store\", output_config=output\n",
    ").with_beam_pipeline_args(\n",
    "    beam_pipeline_args=[\n",
    "        \"--machine_type\",\n",
    "        \"n2-custom-8-131072-ext\",\n",
    "        \"--disk_size_gb\",\n",
    "        \"500\",\n",
    "        \"--runner\",\n",
    "        \"DataflowRunner\",\n",
    "        \"--worker_disk_type\",\n",
    "        f\"compute.googleapis.com/projects/{PROJECT_ID}/zones/{REGION}/diskTypes/pd-standard\",\n",
    "        \"--project\",\n",
    "        PROJECT_ID,\n",
    "        \"--region\",\n",
    "        REGION,\n",
    "        \"--temp_location\",\n",
    "        f\"gs://{BUCKET}/pipeline_root/\",\n",
    "        \"--experiments\",\n",
    "        \"use_runner_v2\",\n",
    "    ]\n",
    ")"
   ]
  },
  {
   "cell_type": "code",
   "execution_count": null,
   "id": "eebc9187-7feb-4479-9bff-5ef497614087",
   "metadata": {
    "tags": []
   },
   "outputs": [
    {
     "name": "stderr",
     "output_type": "stream",
     "text": [
      "WARNING:apache_beam.runners.interactive.interactive_environment:Dependencies required for Interactive Beam PCollection visualization are not available, please use: `pip install apache-beam[interactive]` to install necessary dependencies to enable all data visualization features.\n"
     ]
    },
    {
     "data": {
      "application/javascript": [
       "\n",
       "        if (typeof window.interactive_beam_jquery == 'undefined') {\n",
       "          var jqueryScript = document.createElement('script');\n",
       "          jqueryScript.src = 'https://code.jquery.com/jquery-3.4.1.slim.min.js';\n",
       "          jqueryScript.type = 'text/javascript';\n",
       "          jqueryScript.onload = function() {\n",
       "            var datatableScript = document.createElement('script');\n",
       "            datatableScript.src = 'https://cdn.datatables.net/1.10.20/js/jquery.dataTables.min.js';\n",
       "            datatableScript.type = 'text/javascript';\n",
       "            datatableScript.onload = function() {\n",
       "              window.interactive_beam_jquery = jQuery.noConflict(true);\n",
       "              window.interactive_beam_jquery(document).ready(function($){\n",
       "                \n",
       "              });\n",
       "            }\n",
       "            document.head.appendChild(datatableScript);\n",
       "          };\n",
       "          document.head.appendChild(jqueryScript);\n",
       "        } else {\n",
       "          window.interactive_beam_jquery(document).ready(function($){\n",
       "            \n",
       "          });\n",
       "        }"
      ]
     },
     "metadata": {},
     "output_type": "display_data"
    },
    {
     "name": "stderr",
     "output_type": "stream",
     "text": [
      "WARNING:apache_beam.io.tfrecordio:Couldn't find python-snappy so the implementation of _TFRecordUtil._masked_crc32c is not as fast as it could be.\n"
     ]
    }
   ],
   "source": [
    "context.run(example_gen)"
   ]
  },
  {
   "cell_type": "code",
   "execution_count": null,
   "id": "4b535d52-79af-4fe4-8d88-01bb3c4be209",
   "metadata": {
    "tags": []
   },
   "outputs": [],
   "source": [
    "statistics_gen = StatisticsGen(\n",
    "    examples=example_gen.outputs[\"examples\"], exclude_splits=[\"train\"]\n",
    ")"
   ]
  },
  {
   "cell_type": "code",
   "execution_count": null,
   "id": "7fa071c5-6878-47b5-b644-49f9539ec216",
   "metadata": {
    "tags": []
   },
   "outputs": [],
   "source": [
    "schema_gen = SchemaGen(\n",
    "    statistics=statistics_gen.outputs[\"statistics\"], exclude_splits=[\"train\"]\n",
    ")"
   ]
  }
 ],
 "metadata": {
  "environment": {
   "kernel": "neurips",
   "name": "workbench-notebooks.m125",
   "type": "gcloud",
   "uri": "us-docker.pkg.dev/deeplearning-platform-release/gcr.io/workbench-notebooks:m125"
  },
  "kernelspec": {
   "display_name": "neurips (Local)",
   "language": "python",
   "name": "neurips"
  },
  "language_info": {
   "codemirror_mode": {
    "name": "ipython",
    "version": 3
   },
   "file_extension": ".py",
   "mimetype": "text/x-python",
   "name": "python",
   "nbconvert_exporter": "python",
   "pygments_lexer": "ipython3",
   "version": "3.10.13"
  }
 },
 "nbformat": 4,
 "nbformat_minor": 5
}
