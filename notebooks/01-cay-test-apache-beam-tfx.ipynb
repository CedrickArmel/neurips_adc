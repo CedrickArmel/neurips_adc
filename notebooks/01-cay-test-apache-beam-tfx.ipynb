{
 "cells": [
  {
   "cell_type": "code",
   "execution_count": 5,
   "id": "4e619cff-b93a-4b4e-ada6-cc2785f1dbac",
   "metadata": {
    "tags": []
   },
   "outputs": [],
   "source": [
    "# !gsutil -m cp -r gs://neurips-adc-bucket/raw/train/100468857 ../data/raw/train\n",
    "# !gsutil -m cp -r gs://neurips-adc-bucket/raw/train/1005054328 ../data/raw/train\n",
    "# !gsutil cp gs://neurips-adc-bucket/raw/* ../data/raw/"
   ]
  },
  {
   "cell_type": "code",
   "execution_count": 9,
   "id": "7f07fc5f-471d-4f88-b2fd-bd31aea880f6",
   "metadata": {
    "tags": []
   },
   "outputs": [],
   "source": [
    "from google.cloud import storage\n",
    "import apache_beam as beam\n",
    "from apache_beam.options.pipeline_options import PipelineOptions, StandardOptions\n",
    "from apache_beam.runners.interactive.interactive_runner import InteractiveRunner\n",
    "import apache_beam.runners.interactive.interactive_beam as ibeam\n",
    "import os\n",
    "import subprocess\n",
    "import glob\n",
    "import shutil"
   ]
  },
  {
   "cell_type": "code",
   "execution_count": 2,
   "id": "5466c403-6595-4632-8b05-85db653f26f4",
   "metadata": {
    "tags": []
   },
   "outputs": [],
   "source": [
    "storage_client = storage.Client()"
   ]
  },
  {
   "cell_type": "code",
   "execution_count": 3,
   "id": "91dc6596-7cef-49de-bcd6-2b96eb16b8ed",
   "metadata": {
    "tags": []
   },
   "outputs": [],
   "source": [
    "blobs = storage_client.list_blobs(\n",
    "    bucket_or_name=\"neurips-adc-bucket\", match_glob=\"raw/**/*\", delimiter=\"/\"\n",
    ")"
   ]
  },
  {
   "cell_type": "code",
   "execution_count": 5,
   "id": "01ffa33c-875c-4ca8-ad62-4fc17219de41",
   "metadata": {
    "tags": []
   },
   "outputs": [
    {
     "data": {
      "text/plain": [
       "['raw/test/', 'raw/train/']"
      ]
     },
     "execution_count": 5,
     "metadata": {},
     "output_type": "execute_result"
    }
   ],
   "source": [
    "[blob for blob in blobs.prefixes]"
   ]
  },
  {
   "cell_type": "code",
   "execution_count": 6,
   "id": "33be4a5c-2460-44cf-97ef-f6b0312305b5",
   "metadata": {
    "tags": []
   },
   "outputs": [],
   "source": [
    "def list_blobs(bucket_name):\n",
    "    \"\"\"Lists all the blobs in the bucket.\"\"\"\n",
    "    # bucket_name = \"your-bucket-name\"\n",
    "\n",
    "    storage_client = storage.Client()\n",
    "\n",
    "    # Note: Client.list_blobs requires at least package version 1.17.0.\n",
    "    blobs = storage_client.list_blobs(bucket_name)\n",
    "\n",
    "    # Note: The call returns a response only when the iterator is consumed.\n",
    "    for blob in blobs:\n",
    "        print(blob.name)"
   ]
  },
  {
   "cell_type": "code",
   "execution_count": 17,
   "id": "f39fc48c-c18a-4999-a9b0-e7f13c4b91f5",
   "metadata": {
    "tags": []
   },
   "outputs": [],
   "source": [
    "def copy_to(element, dest: str):\n",
    "    sufix = \"/\".join(element.split(\"/\")[-2:])\n",
    "    output = os.path.join(dest, sufix)\n",
    "    shutil.copytree(src=element, dst=output)"
   ]
  },
  {
   "cell_type": "code",
   "execution_count": 26,
   "id": "76cb4ad9-7827-44be-8c12-30430e976a04",
   "metadata": {
    "tags": []
   },
   "outputs": [
    {
     "name": "stdout",
     "output_type": "stream",
     "text": [
      "None\n",
      "None\n"
     ]
    }
   ],
   "source": [
    "with beam.Pipeline() as pipeline:\n",
    "    outputs = (\n",
    "        pipeline\n",
    "        | \"Create initial values\" >> beam.Create(glob.glob(\"../data/raw/**/*\"))\n",
    "        | \"Copy the folder\" >> beam.Map(lambda x: copy_to(x, \"../data/output\"))\n",
    "    )\n",
    "    outputs | beam.Map(print)"
   ]
  },
  {
   "cell_type": "markdown",
   "id": "94f8556c-aa54-4a6d-98fd-90d527475d1c",
   "metadata": {},
   "source": [
    "Next setp appliquer la transformation de bout en bout dans le notebook.\n",
    "quand ce sera bon on va voir comment intéger cela dans un ExampleGen"
   ]
  }
 ],
 "metadata": {
  "environment": {
   "kernel": "neurips3",
   "name": "workbench-notebooks.m124",
   "type": "gcloud",
   "uri": "us-docker.pkg.dev/deeplearning-platform-release/gcr.io/workbench-notebooks:m124"
  },
  "kernelspec": {
   "display_name": "neurips3 (Local)",
   "language": "python",
   "name": "neurips3"
  },
  "language_info": {
   "codemirror_mode": {
    "name": "ipython",
    "version": 3
   },
   "file_extension": ".py",
   "mimetype": "text/x-python",
   "name": "python",
   "nbconvert_exporter": "python",
   "pygments_lexer": "ipython3",
   "version": "3.10.13"
  }
 },
 "nbformat": 4,
 "nbformat_minor": 5
}
